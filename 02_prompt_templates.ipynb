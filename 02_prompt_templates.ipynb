{
 "cells": [
  {
   "cell_type": "code",
   "execution_count": null,
   "metadata": {},
   "outputs": [],
   "source": [
    "import os\n",
    "from dotenv import load_dotenv\n",
    "from langchain_openai import ChatOpenAI\n",
    "\n",
    "# Import Prompt Templates\n",
    "from langchain.prompts import PromptTemplate\n",
    "from langchain.prompts import ChatPromptTemplate\n",
    "from langchain.prompts import HumanMessagePromptTemplate\n",
    "from langchain.prompts import SystemMessagePromptTemplate\n",
    "from langchain_core.messages import (\n",
    "    AIMessage,\n",
    "    BaseMessage,\n",
    "    ChatMessage,\n",
    "    HumanMessage,\n",
    "    SystemMessage,\n",
    ")\n"
   ]
  },
  {
   "cell_type": "code",
   "execution_count": null,
   "metadata": {},
   "outputs": [],
   "source": [
    "load_dotenv()\n",
    "api_key = os.getenv(\"OPENAI_API_KEY\")\n"
   ]
  },
  {
   "cell_type": "code",
   "execution_count": null,
   "metadata": {},
   "outputs": [],
   "source": [
    "# Initialize the OpenAI LLM\n",
    "llm = ChatOpenAI(\n",
    "    openai_api_key=api_key,\n",
    "    model_name=\"gpt-3.5-turbo\",\n",
    "    temperature=0,\n",
    "    max_tokens=1000,\n",
    "    verbose=True,\n",
    ")\n"
   ]
  },
  {
   "cell_type": "markdown",
   "metadata": {},
   "source": [
    "### Simple Prompt Template (manual Setup and shortcut) "
   ]
  },
  {
   "cell_type": "code",
   "execution_count": null,
   "metadata": {},
   "outputs": [],
   "source": [
    "# Simple Prompt Template\n",
    "template_string = \"Explain the core concept of {topic} in simple terms.\""
   ]
  },
  {
   "cell_type": "markdown",
   "metadata": {},
   "source": [
    "#### Shortcut\n",
    "It automatically parses the {} placeholders to determine the input variables.\n",
    "In this case, it detects that topic is the variable, so it’s equivalent to  Manual Setup\n"
   ]
  },
  {
   "cell_type": "code",
   "execution_count": null,
   "metadata": {},
   "outputs": [],
   "source": [
    "# Create a PromptTemplate instance (shortcut)\n",
    "#simple_prompt = PromptTemplate.from_template(template_string)"
   ]
  },
  {
   "cell_type": "markdown",
   "metadata": {},
   "source": [
    "#### Manual Setup"
   ]
  },
  {
   "cell_type": "code",
   "execution_count": null,
   "metadata": {},
   "outputs": [],
   "source": [
    "# Simple Prompt Template Instantiation (manual Setup)\n",
    "simple_prompt = PromptTemplate(\n",
    "    input_variables=[\"topic\"],\n",
    "    template=template_string,\n",
    ")"
   ]
  },
  {
   "cell_type": "markdown",
   "metadata": {},
   "source": [
    "##### So when to use which?\n",
    "\n",
    "| Method                  | Pros             | When to Use                                                                 |\n",
    "|------------------------|------------------|------------------------------------------------------------------------------|\n",
    "| `from_template()`       | Cleaner, shorter | When your template is simple and you're okay with automatic variable detection |\n",
    "| `PromptTemplate(...)`   | More control     | When you want to be explicit, handle complex templates, or avoid potential parsing issues. If your template gets more complex (e.g., has {{/}}, or you want to include literal {} characters), using the manual form might be safer. |\n"
   ]
  },
  {
   "cell_type": "code",
   "execution_count": null,
   "metadata": {},
   "outputs": [],
   "source": [
    "# Format the template with a specific topic\n",
    "topic_name = \"LangChain\"\n",
    "formatted_prompt = simple_prompt.format(topic=topic_name)\n",
    "# Print the formatted prompt\n",
    "print(\"Formatted Prompt:\")\n",
    "print(formatted_prompt)\n",
    "\n",
    "# Generate a response using the LLM\n",
    "response = llm.invoke(formatted_prompt)\n",
    "# Print the LLM's response\n",
    "print(\"\\nLLM Response:\")\n",
    "print(response.content)"
   ]
  },
  {
   "cell_type": "markdown",
   "metadata": {},
   "source": [
    "### ChatPromptTemplate (Method 1)"
   ]
  },
  {
   "cell_type": "code",
   "execution_count": null,
   "metadata": {},
   "outputs": [],
   "source": [
    "# Define templates for system and human messages\n",
    "system_template = \"You are a helpful assistant who translate {input_language} to {output_language}.\"\n",
    "human_template = \"{text}\""
   ]
  },
  {
   "cell_type": "code",
   "execution_count": null,
   "metadata": {},
   "outputs": [],
   "source": [
    "# Create a ChatPromptTemplate using from_messages\n",
    "chat_prompt_template_1 = mimimport dsdddshsdddddddddd\n",
    "\n",
    "\n",
    "xxxxxxx.from_messages(\n",
    "    [\n",
    "        (\"system\", system_template), # Using tuple shorthand (role, template)\n",
    "        (\"human\", human_template),\n",
    "    ]\n",
    ")"
   ]
  },
  {
   "cell_type": "code",
   "execution_count": null,
   "metadata": {},
   "outputs": [],
   "source": [
    "# Format the chat template\n",
    "input_lang = \"English\"\n",
    "output_lang = \"French\"\n",
    "text = \"Hello, how are you?\"\n",
    "formatted_chat_prompt = chat_prompt_template_1.format(\n",
    "    input_language=input_lang,\n",
    "    output_language=output_lang,\n",
    "    text=text,\n",
    ")\n",
    "# Print the formatted chat prompt\n",
    "print(\"\\nFormatted Chat Prompt:\")\n",
    "print(formatted_chat_prompt)\n",
    "# Generate a response using the LLM with the chat prompt\n",
    "response = llm.invoke(formatted_chat_prompt)\n",
    "# Print the LLM's response\n",
    "print(\"\\nLLM Response:\")\n",
    "print(response.content)"
   ]
  },
  {
   "cell_type": "markdown",
   "metadata": {},
   "source": [
    "### ChatPromptTemplate (Method 2)"
   ]
  },
  {
   "cell_type": "code",
   "execution_count": null,
   "metadata": {},
   "outputs": [],
   "source": [
    "# Create a ChatPromptTemplate using from_messages with explicit message classes\n",
    "chat_prompt_template_2 = ChatPromptTemplate.from_messages(\n",
    "    [\n",
    "        SystemMessagePromptTemplate.from_template(system_template),\n",
    "        HumanMessagePromptTemplate.from_template(human_template),\n",
    "    ]\n",
    ")\n",
    "# Format the chat template\n",
    "formatted_chat_prompt = chat_prompt_template_2.format(\n",
    "    input_language=input_lang,\n",
    "    output_language=output_lang,\n",
    "    text=text,\n",
    ")\n",
    "# Print the formatted chat prompt\n",
    "print(\"\\nFormatted Chat Prompt (Explicit Classes):\")\n",
    "print(formatted_chat_prompt)\n",
    "# Generate a response using the LLM with the chat prompt\n",
    "response = llm.invoke(formatted_chat_prompt)\n",
    "# Print the LLM's response\n",
    "print(\"\\nLLM Response:\")\n",
    "print(response.content)"
   ]
  },
  {
   "cell_type": "code",
   "execution_count": null,
   "metadata": {},
   "outputs": [],
   "source": []
  }
 ],
 "metadata": {
  "kernelspec": {
   "display_name": ".venv",
   "language": "python",
   "name": "python3"
  },
  "language_info": {
   "codemirror_mode": {
    "name": "ipython",
    "version": 3
   },
   "file_extension": ".py",
   "mimetype": "text/x-python",
   "name": "python",
   "nbconvert_exporter": "python",
   "pygments_lexer": "ipython3",
   "version": "3.12.3"
  }
 },
 "nbformat": 4,
 "nbformat_minor": 2
}
