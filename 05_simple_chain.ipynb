{
 "cells": [
  {
   "cell_type": "markdown",
   "metadata": {},
   "source": [
    "Let's build a chain that takes a product name and generates a short, catchy marketing description for it."
   ]
  },
  {
   "cell_type": "code",
   "execution_count": null,
   "metadata": {},
   "outputs": [],
   "source": [
    "import os\n",
    "from dotenv import load_dotenv\n",
    "from langchain_openai import ChatOpenAI\n",
    "from langchain.prompts import ChatPromptTemplate\n",
    "from langchain_core.output_parsers import StrOutputParser\n",
    "\n",
    "load_dotenv()\n",
    "api_key = os.getenv(\"OPENAI_API_KEY\")\n",
    "if not api_key:\n",
    "    raise ValueError(\"Please set the OPENAI_API_KEY environment variable.\")\n",
    "    exit(1)"
   ]
  },
  {
   "cell_type": "code",
   "execution_count": null,
   "metadata": {},
   "outputs": [],
   "source": [
    "#1. LLM\n",
    "llm = ChatOpenAI(\n",
    "    openai_api_key=api_key,\n",
    "    model=\"gpt-3.5-turbo\",\n",
    "    temperature=0.7,\n",
    "    max_tokens=1000,\n",
    "    verbose=True\n",
    ")\n",
    "\n",
    "#2. Prompt\n",
    "prompt_template = ChatPromptTemplate.from_template(\n",
    "    \"You are a helpful assistant.\\n\" \n",
    "    \"Generate a catchy one sentence marketing slogan for product named: '{product_name}'.\"\n",
    ")\n",
    "\n",
    "#3. Output Parser\n",
    "output_parser = StrOutputParser()\n",
    "\n",
    "#4. Build Chain\n",
    "chain = prompt_template | llm | output_parser\n",
    "\n",
    "try:\n",
    "    #5. Run Chain\n",
    "    product_name = \"Nisca Natural Facewash\"\n",
    "    result = chain.invoke({\"product_name\": product_name})\n",
    "    print(f\"Generated Slogan: {result}\")\n",
    "except Exception as e:\n",
    "    print(f\"An error occurred: {e}\")\n",
    "    exit(1)"
   ]
  }
 ],
 "metadata": {
  "kernelspec": {
   "display_name": ".venv",
   "language": "python",
   "name": "python3"
  },
  "language_info": {
   "codemirror_mode": {
    "name": "ipython",
    "version": 3
   },
   "file_extension": ".py",
   "mimetype": "text/x-python",
   "name": "python",
   "nbconvert_exporter": "python",
   "pygments_lexer": "ipython3",
   "version": "3.12.3"
  }
 },
 "nbformat": 4,
 "nbformat_minor": 2
}
