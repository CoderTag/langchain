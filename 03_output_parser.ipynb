{
 "cells": [
  {
   "cell_type": "code",
   "execution_count": null,
   "metadata": {},
   "outputs": [],
   "source": [
    "import os\n",
    "from dotenv import load_dotenv\n",
    "from langchain_openai import ChatOpenAI\n",
    "from langchain.prompts import ChatPromptTemplate\n",
    "\n",
    "#Import Parser\n",
    "from langchain_core.output_parsers import (\n",
    "    CommaSeparatedListOutputParser,\n",
    "    JsonOutputParser,\n",
    "    PydanticOutputParser\n",
    ")\n",
    "from pydantic import BaseModel, Field\n",
    "\n",
    "# Load environment variables from .env file\n",
    "load_dotenv()\n",
    "api_key = os.getenv(\"OPENAI_API_KEY\")\n",
    "if not api_key:\n",
    "    raise ValueError(\"OPENAI_API_KEY environment variable not set.\")\n",
    "    exit(1)"
   ]
  },
  {
   "cell_type": "code",
   "execution_count": null,
   "metadata": {},
   "outputs": [],
   "source": [
    "# Initialize the OpenAI model\n",
    "llm = ChatOpenAI(\n",
    "    openai_api_key=api_key,\n",
    "    model=\"gpt-3.5-turbo\",\n",
    "    temperature=0,\n",
    "    max_tokens=1000\n",
    ")"
   ]
  },
  {
   "cell_type": "markdown",
   "metadata": {},
   "source": [
    "### Example 1: CommaSeparatedListOutputParser"
   ]
  },
  {
   "cell_type": "code",
   "execution_count": null,
   "metadata": {},
   "outputs": [],
   "source": [
    "print(\"Example 1: CommaSeparatedListOutputParser\")\n",
    "\n",
    "# Create parser instance\n",
    "list_parser = CommaSeparatedListOutputParser()\n",
    "\n",
    "# Get format instructions (optional but helpful for LLM)\n",
    "format_instructions = list_parser.get_format_instructions()\n",
    "print(f\"Format Instructions: {format_instructions}\")\n",
    "\n",
    "# Create a prompt asking for a list and including instructions\n",
    "list_prompt_template = ChatPromptTemplate.from_template(\n",
    "    \"List 5 major Machine Learning tools. {format_instructions}\"\n",
    ")\n",
    "\n",
    "# Format the prompt\n",
    "list_prompt = list_prompt_template.format(format_instructions=format_instructions)\n",
    "print(f\"Prompt: {list_prompt}\") # See how instructions are included\n",
    "\n",
    "# Call the LLM with the prompt\n",
    "response = llm.invoke(list_prompt)\n",
    "\n",
    "# Parse the response\n",
    "try:\n",
    "    parsed_list = list_parser.parse(response.content)\n",
    "    print(f\"Parsed List: {parsed_list}\")\n",
    "    print(f\"Parsed List Type: {type(parsed_list)}\")\n",
    "    print(f\"First Item: {parsed_list[0]}\")\n",
    "except Exception as e:\n",
    "    print(f\"Error parsing response: {e}\")\n",
    "    print(f\"Raw Response: {response.content}\")\n",
    "    exit(1)\n"
   ]
  },
  {
   "cell_type": "markdown",
   "metadata": {},
   "source": [
    "### Example 2: PydanticOutputParser"
   ]
  },
  {
   "cell_type": "code",
   "execution_count": null,
   "metadata": {},
   "outputs": [],
   "source": [
    "print(\"Example 2: PydanticOutputParser\")\n",
    "\n",
    "# Define desired output structure using Pydantic\n",
    "class PersonInfo(BaseModel):\n",
    "    name: str = Field(description=\"Name of the person\")\n",
    "    age: int = Field(description=\"Age of the person\")\n",
    "    city: str = Field(description=\"City where the person lives\")\n",
    "\n",
    "# Create pydantic parser instance\n",
    "pydantic_parser = PydanticOutputParser(pydantic_object=PersonInfo)\n",
    "\n",
    "# Get format instructions (these are crucial for the LLM to understand the expected output.)\n",
    "format_instructions_pydantic = pydantic_parser.get_format_instructions()\n",
    "print(f\"Format Instructions: {format_instructions_pydantic}\")\n",
    "\n",
    "# Create prompt to extract information and include instructions\n",
    "pydantic_prompt_template = ChatPromptTemplate.from_template(\n",
    "    \"Extract the name, age, and city of a person. {format_instructions}\\n\"\n",
    "    \"Text:{text_input}\"\n",
    ")\n",
    "\n",
    "# 5. Input text containing the information\n",
    "text = \"Alice is 30 years old and resides in New York City.\"\n",
    "\n",
    "# Format the prompt\n",
    "pydantic_prompt = pydantic_prompt_template.format(\n",
    "    format_instructions=format_instructions_pydantic,\n",
    "    text_input=text\n",
    ")\n",
    "print(f\"Prompt: {pydantic_prompt}\") # See how instructions are included\n",
    "\n",
    "# Call the LLM with the prompt\n",
    "response = llm.invoke(pydantic_prompt)\n",
    "# Parse the response\n",
    "try:\n",
    "    parsed_info = pydantic_parser.parse(response.content)\n",
    "    print(f\"Parsed Info: {parsed_info}\")\n",
    "    print(f\"Parsed Info Type: {type(parsed_info)}\")\n",
    "    print(f\"Name: {parsed_info.name}\")\n",
    "    print(f\"Age: {parsed_info.age}\")\n",
    "    print(f\"City: {parsed_info.city}\")\n",
    "except Exception as e:\n",
    "    print(f\"Error parsing response: {e}\")\n",
    "    print(f\"Raw Response: {response.content}\")\n",
    "    exit(1)"
   ]
  },
  {
   "cell_type": "markdown",
   "metadata": {},
   "source": [
    "### Example 3: JSON Output Parser"
   ]
  },
  {
   "cell_type": "code",
   "execution_count": null,
   "metadata": {},
   "outputs": [],
   "source": [
    "# Create a json parser instance\n",
    "# JSonOutputParser is a generic parser that can be used to parse JSON strings into Python dictionaries.\n",
    "# JSsonOutputParser can optionally take Pydantic model as an argument to validate the parsed JSON data.\n",
    "# If a Pydantic model is provided, the parser will validate the parsed JSON data against the model.\n",
    "\n",
    "json_parser = JsonOutputParser()\n",
    "\n",
    "# Define the desired JSON structure in the PROMPT instuction.\n",
    "# Note: Using triple quotes for multi-line f-strings\n",
    "json_prompt_template_text = \"\"\"\n",
    "    Return JSON object with the following keys:\n",
    "    'company_name': The name of the company\n",
    "    'ticker_symbol': The stock ticker symbol\n",
    "    'industry': The industry the company operates in\n",
    "    'market_cap': The market capitalization of the company\n",
    "    'ceo': The name of the CEO\n",
    "    'headquarters': The location of the company's headquarters\n",
    "\n",
    "    Provide the information for the following company: {company_query}\n",
    "\n",
    "    Format Instruction: Ensure the output is a valid JSON object. Do not incude text before or after the JSON object. for example:\n",
    "    {{\n",
    "        \"company_name\": \"Apple Inc.\",\n",
    "        \"ticker_symbol\": \"AAPL\",\n",
    "        \"industry\": \"Technology\",\n",
    "        \"market_cap\": 2.5e12,\n",
    "        \"ceo\": \"Tim Cook\",\n",
    "        \"headquarters\": \"Cupertino, California\" \n",
    "    }}\n",
    "\"\"\""
   ]
  },
  {
   "cell_type": "code",
   "execution_count": null,
   "metadata": {},
   "outputs": [],
   "source": [
    "# Create prompt template\n",
    "json_prompt_template = ChatPromptTemplate.from_template(\n",
    "    json_prompt_template_text\n",
    ")\n",
    "# Format the prompt\n",
    "company_query = \"Tesla Inc.\"\n",
    "json_prompt = json_prompt_template.format(company_query=company_query)\n",
    "\n",
    "response = llm.invoke(json_prompt)"
   ]
  },
  {
   "cell_type": "code",
   "execution_count": null,
   "metadata": {},
   "outputs": [],
   "source": [
    "try:\n",
    "    parsed_json = json_parser.parse(response.content)\n",
    "    print(f\"Parsed JSON: {parsed_json}\")\n",
    "    print(f\"Parsed JSON Type: {type(parsed_json)}\")\n",
    "    print(f\"Company Name: {parsed_json['company_name']}\")\n",
    "    print(f\"Ticker Symbol: {parsed_json['ticker_symbol']}\")\n",
    "    print(f\"Industry: {parsed_json['industry']}\")\n",
    "    print(f\"Market Cap: {parsed_json['market_cap']}\")\n",
    "    print(f\"CEO: {parsed_json['ceo']}\")\n",
    "    print(f\"Headquarters: {parsed_json['headquarters']}\")\n",
    "except Exception as e:\n",
    "    print(f\"Error parsing response: {e}\")\n",
    "    print(f\"Raw Response: {response.content}\")\n",
    "    exit(1)"
   ]
  }
 ],
 "metadata": {
  "kernelspec": {
   "display_name": ".venv",
   "language": "python",
   "name": "python3"
  },
  "language_info": {
   "codemirror_mode": {
    "name": "ipython",
    "version": 3
   },
   "file_extension": ".py",
   "mimetype": "text/x-python",
   "name": "python",
   "nbconvert_exporter": "python",
   "pygments_lexer": "ipython3",
   "version": "3.12.3"
  }
 },
 "nbformat": 4,
 "nbformat_minor": 2
}
