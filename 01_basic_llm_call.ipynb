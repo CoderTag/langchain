{
 "cells": [
  {
   "cell_type": "code",
   "execution_count": 1,
   "metadata": {},
   "outputs": [],
   "source": [
    "import os\n",
    "from dotenv import load_dotenv\n",
    "from langchain_openai import ChatOpenAI\n",
    "\n",
    "load_dotenv()\n",
    "api_key = os.getenv(\"OPENAI_API_KEY\")"
   ]
  },
  {
   "cell_type": "markdown",
   "metadata": {},
   "source": [
    "### Temperature 0: More focused respone"
   ]
  },
  {
   "cell_type": "code",
   "execution_count": 6,
   "metadata": {},
   "outputs": [
    {
     "name": "stdout",
     "output_type": "stream",
     "text": [
      "\n",
      "--- LLM Response (Temparature = 0) ---\n",
      "content=\"Newton's 2nd law states that the acceleration of an object is directly proportional to the net force acting on it and inversely proportional to its mass, expressed mathematically as F = ma.\" additional_kwargs={'refusal': None} response_metadata={'token_usage': {'completion_tokens': 40, 'prompt_tokens': 21, 'total_tokens': 61, 'completion_tokens_details': {'accepted_prediction_tokens': 0, 'audio_tokens': 0, 'reasoning_tokens': 0, 'rejected_prediction_tokens': 0}, 'prompt_tokens_details': {'audio_tokens': 0, 'cached_tokens': 0}}, 'model_name': 'gpt-4o-mini-2024-07-18', 'system_fingerprint': 'fp_44added55e', 'id': 'chatcmpl-BKrrgogGgaYRNKNFZOVneLhpro4EY', 'finish_reason': 'stop', 'logprobs': None} id='run-844cc167-5c66-4b53-a437-5c41da34bb96-0' usage_metadata={'input_tokens': 21, 'output_tokens': 40, 'total_tokens': 61, 'input_token_details': {'audio': 0, 'cache_read': 0}, 'output_token_details': {'audio': 0, 'reasoning': 0}}\n",
      "\n",
      "--- LLM Response (Text) ---\n",
      "Newton's 2nd law states that the acceleration of an object is directly proportional to the net force acting on it and inversely proportional to its mass, expressed mathematically as F = ma.\n"
     ]
    }
   ],
   "source": [
    "# llm = ChatOpenAI(\n",
    "#     openai_api_key=api_key,\n",
    "#     model=\"gpt-4\",\n",
    "#     temperature=0,\n",
    "#     max_tokens=2000,\n",
    "#     verbose=True,\n",
    "# )\n",
    "prompt = \"Explain the concept of Newton's 2nd law in one sentence.\"\n",
    "\n",
    "llm = ChatOpenAI(\n",
    "    model=\"gpt-4o-mini\",\n",
    "    temperature=0.0\n",
    ")    \n",
    "def get_response(prompt):\n",
    "    response = llm.invoke(prompt)\n",
    "    return response\n",
    "\n",
    "response = get_response(prompt)\n",
    "\n",
    "# The response object contains the model's output\n",
    "print(\"\\n--- LLM Response (Temparature = 0) ---\")\n",
    "print(response)\n",
    "\n",
    "# Show just the text content\n",
    "print(\"\\n--- LLM Response (Text) ---\")\n",
    "print(response.content) "
   ]
  },
  {
   "cell_type": "markdown",
   "metadata": {},
   "source": [
    "### Temperature 1: creative respone"
   ]
  },
  {
   "cell_type": "code",
   "execution_count": 7,
   "metadata": {},
   "outputs": [
    {
     "name": "stdout",
     "output_type": "stream",
     "text": [
      "\n",
      "--- LLM Response (Temperature 0.8) ---\n",
      "Newton's 2nd law states that the force acting on an object is equal to the mass of the object multiplied by its acceleration (F = ma), indicating that the acceleration of an object is directly proportional to the net force acting on it and inversely proportional to its mass.\n"
     ]
    }
   ],
   "source": [
    "llm_creative = ChatOpenAI(\n",
    "    model=\"gpt-4o-mini\",\n",
    "    temperature=0.8\n",
    ") \n",
    "\n",
    "def get_creative_response(prompt):\n",
    "    response = llm_creative.invoke(prompt)\n",
    "    return response\n",
    "\n",
    "response_creative = get_creative_response(prompt)\n",
    "\n",
    "print(\"\\n--- LLM Response (Temperature 0.8) ---\")\n",
    "print(response_creative.content)"
   ]
  },
  {
   "cell_type": "code",
   "execution_count": null,
   "metadata": {},
   "outputs": [],
   "source": []
  }
 ],
 "metadata": {
  "kernelspec": {
   "display_name": ".venv",
   "language": "python",
   "name": "python3"
  },
  "language_info": {
   "codemirror_mode": {
    "name": "ipython",
    "version": 3
   },
   "file_extension": ".py",
   "mimetype": "text/x-python",
   "name": "python",
   "nbconvert_exporter": "python",
   "pygments_lexer": "ipython3",
   "version": "3.12.3"
  }
 },
 "nbformat": 4,
 "nbformat_minor": 2
}
