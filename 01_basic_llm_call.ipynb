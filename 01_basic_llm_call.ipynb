{
 "cells": [
  {
   "cell_type": "code",
   "execution_count": null,
   "metadata": {},
   "outputs": [],
   "source": [
    "import os\n",
    "from dotenv import load_dotenv\n",
    "from langchain_openai import ChatOpenAI\n",
    "from getpass import getpass\n",
    "\n",
    "load_dotenv()\n",
    "api_key = os.getenv(\"OPENAI_API_KEY\") or getpass(\"Enter your OpenAI API key: \")\n",
    "os.environ[\"OPENAI_API_KEY\"] = api_key"
   ]
  },
  {
   "cell_type": "markdown",
   "metadata": {},
   "source": [
    "### Temperature 0: More focused respone"
   ]
  },
  {
   "cell_type": "code",
   "execution_count": null,
   "metadata": {},
   "outputs": [],
   "source": [
    "# llm = ChatOpenAI(\n",
    "#     openai_api_key=api_key,\n",
    "#     model=\"gpt-4\",\n",
    "#     temperature=0,\n",
    "#     max_tokens=2000,\n",
    "#     verbose=True,\n",
    "# )\n",
    "prompt = \"Explain the concept of Newton's 2nd law in one sentence.\"\n",
    "\n",
    "llm = ChatOpenAI(\n",
    "    model=\"gpt-4o-mini\",\n",
    "    temperature=0.0\n",
    ")    \n",
    "def get_response(prompt):\n",
    "    response = llm.invoke(prompt)\n",
    "    return response\n",
    "\n",
    "response = get_response(prompt)\n",
    "\n",
    "# The response object contains the model's output\n",
    "print(\"\\n--- LLM Response (Temparature = 0) ---\")\n",
    "print(response)\n",
    "\n",
    "# Show just the text content\n",
    "print(\"\\n--- LLM Response (Text) ---\")\n",
    "print(response.content) "
   ]
  },
  {
   "cell_type": "markdown",
   "metadata": {},
   "source": [
    "### Temperature 1: creative respone"
   ]
  },
  {
   "cell_type": "code",
   "execution_count": null,
   "metadata": {},
   "outputs": [],
   "source": [
    "llm_creative = ChatOpenAI(\n",
    "    model=\"gpt-4o-mini\",\n",
    "    temperature=0.8\n",
    ") \n",
    "\n",
    "def get_creative_response(prompt):\n",
    "    response = llm_creative.invoke(prompt)\n",
    "    return response\n",
    "\n",
    "response_creative = get_creative_response(prompt)\n",
    "\n",
    "print(\"\\n--- LLM Response (Temperature 0.8) ---\")\n",
    "print(response_creative.content)"
   ]
  }
 ],
 "metadata": {
  "kernelspec": {
   "display_name": ".venv",
   "language": "python",
   "name": "python3"
  },
  "language_info": {
   "codemirror_mode": {
    "name": "ipython",
    "version": 3
   },
   "file_extension": ".py",
   "mimetype": "text/x-python",
   "name": "python",
   "nbconvert_exporter": "python",
   "pygments_lexer": "ipython3",
   "version": "3.12.3"
  }
 },
 "nbformat": 4,
 "nbformat_minor": 2
}
