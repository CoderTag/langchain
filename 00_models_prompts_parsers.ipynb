{
 "cells": [
  {
   "cell_type": "code",
   "execution_count": 2,
   "id": "16899489-6a3e-4827-9705-856354cf057c",
   "metadata": {},
   "outputs": [],
   "source": [
    "#!pip install python-dotenv\n",
    "#!pip install openai\n",
    "#!pip install --upgrade langchain\n",
    "#!pip install langchain-community\n",
    "#!pip install langchain-openai\n",
    "#!pip install langchain-core"
   ]
  },
  {
   "cell_type": "code",
   "execution_count": 3,
   "id": "9624baf0-47b8-42c7-bdff-19d9b06eca9e",
   "metadata": {},
   "outputs": [],
   "source": [
    "import os\n",
    "from openai import OpenAI\n",
    "\n",
    "from dotenv import load_dotenv, find_dotenv\n",
    "_ = load_dotenv(find_dotenv())  # read loacl .env file\n",
    "# openai.api_key = os.environ['OPENAI_API_KEY']\n",
    "\n",
    "client = OpenAI(\n",
    "    # This is the default and can be omitted\n",
    "    api_key=os.environ.get(\"OPENAI_API_KEY\"),\n",
    ")"
   ]
  },
  {
   "cell_type": "code",
   "execution_count": 4,
   "id": "b7b96c75-d922-4fbc-9463-8eda28a7ed70",
   "metadata": {},
   "outputs": [],
   "source": [
    "# Account for deprecation of LLM model\n",
    "import datetime\n",
    "\n",
    "# Get the current date\n",
    "current_date = datetime.datetime.now().date()\n",
    "\n",
    "# Define the target date after which the model should be set to \"gpt-3.5-turbo\"\n",
    "target_date = datetime.date(2024, 12, 12)\n",
    "\n",
    "# Set the model variable based on the current date\n",
    "if current_date > target_date:\n",
    "    llm_model = \"gpt-4o-mini\"\n",
    "else:\n",
    "    llm_model = \"gpt-3.5-turbo\""
   ]
  },
  {
   "cell_type": "markdown",
   "id": "b3664ff0-1527-4854-960e-2df6aa36b0b4",
   "metadata": {},
   "source": [
    "# Chat API: OpenAI\n",
    "lets start a direct API call to openai"
   ]
  },
  {
   "cell_type": "code",
   "execution_count": 5,
   "id": "614f134b-8040-4cfe-ad4b-7eaac2a9d7db",
   "metadata": {},
   "outputs": [],
   "source": [
    "def get_completion(prompt, model=llm_model):\n",
    "    # messages = [{'role':'user', 'content':prompt}]\n",
    "    # response = openai.ChatCompletion.create(\n",
    "    #     model = model,\n",
    "    #     messages = messages,\n",
    "    #     temperature = 0,\n",
    "    # )\n",
    "\n",
    "    response = client.responses.create(\n",
    "        model= model,\n",
    "        instructions=\"give direct answer.\",\n",
    "        input= prompt,\n",
    "    )\n",
    "    print(response.output_text)\n",
    "    # return response.choices[0].message['content']"
   ]
  },
  {
   "cell_type": "code",
   "execution_count": 6,
   "id": "14d40659-272a-40a7-b0db-6d77a030df9b",
   "metadata": {},
   "outputs": [
    {
     "name": "stdout",
     "output_type": "stream",
     "text": [
      "1 + 1 equals 2.\n"
     ]
    }
   ],
   "source": [
    "get_completion(\"What is 1+1?\")"
   ]
  },
  {
   "cell_type": "code",
   "execution_count": 7,
   "id": "39aaf8b5-dec9-473c-95b4-d291b8a6e64d",
   "metadata": {},
   "outputs": [],
   "source": [
    "customer_email = \"\"\"Your scientists were so preoccupied with whether or not they could, they didn't stop to think if they should.\\\n",
    "God creates dinosaurs. God destroys dinosaurs. God creates man. Man destroys God. Man creates dinosaurs.\\\n",
    "If there's one thing the history of evolution has taught us, it's that life will not be contained. Life breaks free.\\\n",
    "It expands into new territories. Painfully, maybe even dangerously. But, uh, there it is.\"\"\""
   ]
  },
  {
   "cell_type": "code",
   "execution_count": 8,
   "id": "3e28b9c3-d0fb-4962-aa2e-38cb3552b711",
   "metadata": {},
   "outputs": [],
   "source": [
    "style = \"\"\"American english in calm and respectful tone\"\"\""
   ]
  },
  {
   "cell_type": "code",
   "execution_count": 9,
   "id": "950ff948-71a3-469f-b3f7-2ec63b9c22bf",
   "metadata": {},
   "outputs": [
    {
     "data": {
      "text/plain": [
       "\"Your scientists were so preoccupied with whether or not they could, they didn't stop to think if they should.God creates dinosaurs. God destroys dinosaurs. God creates man. Man destroys God. Man creates dinosaurs.If there's one thing the history of evolution has taught us, it's that life will not be contained. Life breaks free.It expands into new territories. Painfully, maybe even dangerously. But, uh, there it is.\""
      ]
     },
     "execution_count": 9,
     "metadata": {},
     "output_type": "execute_result"
    }
   ],
   "source": [
    "customer_email"
   ]
  },
  {
   "cell_type": "code",
   "execution_count": 10,
   "id": "382c4fa2-4567-49b8-907f-e409b76d9ffd",
   "metadata": {},
   "outputs": [
    {
     "name": "stdout",
     "output_type": "stream",
     "text": [
      "Translate the text that is delimited by triple backticks into a style that is American english in calm and respectful tone.\n",
      "text: ```Your scientists were so preoccupied with whether or not they could, they didn't stop to think if they should.God creates dinosaurs. God destroys dinosaurs. God creates man. Man destroys God. Man creates dinosaurs.If there's one thing the history of evolution has taught us, it's that life will not be contained. Life breaks free.It expands into new territories. Painfully, maybe even dangerously. But, uh, there it is.```\n",
      "\n"
     ]
    }
   ],
   "source": [
    "prompt = f\"\"\"Translate the text that is delimited by triple backticks into a style that is {style}.\n",
    "text: ```{customer_email}```\n",
    "\"\"\"\n",
    "print(prompt)"
   ]
  },
  {
   "cell_type": "code",
   "execution_count": 11,
   "id": "d31f7e0c-5fc9-44fb-afae-502ee19ab588",
   "metadata": {},
   "outputs": [
    {
     "name": "stdout",
     "output_type": "stream",
     "text": [
      "\"Your scientists were so focused on whether they could do something, they didn't pause to consider whether they should. God creates dinosaurs. God destroys dinosaurs. God creates mankind. Mankind destroys God. Mankind creates dinosaurs. If there's one lesson from the history of evolution, it’s that life cannot be contained. Life breaks free. It ventures into new territories, often painfully and sometimes dangerously. But that’s the reality we face.\"\n"
     ]
    }
   ],
   "source": [
    "response = get_completion(prompt)"
   ]
  },
  {
   "cell_type": "code",
   "execution_count": 12,
   "id": "3062a65e-e715-450e-bb27-3036b5a2221f",
   "metadata": {},
   "outputs": [],
   "source": [
    "response"
   ]
  },
  {
   "cell_type": "markdown",
   "id": "36fd0ac5-dca7-4c42-b3d1-7d12e4170026",
   "metadata": {},
   "source": [
    "# Chat API : LangChain"
   ]
  },
  {
   "cell_type": "code",
   "execution_count": 13,
   "id": "6c7612c4-b416-48a7-9468-21c4e6ed6974",
   "metadata": {},
   "outputs": [],
   "source": [
    "from langchain_openai import ChatOpenAI"
   ]
  },
  {
   "cell_type": "code",
   "execution_count": 14,
   "id": "5406b04e-56f1-4dbb-9152-9d72d5a8de4a",
   "metadata": {},
   "outputs": [],
   "source": [
    "# To control the randomness and creativity of the generated text by an LLM, use temperature = 0.0\n",
    "chat = ChatOpenAI(temperature=0.0,model=llm_model)"
   ]
  },
  {
   "cell_type": "code",
   "execution_count": 15,
   "id": "79971fe8-852d-41aa-8fd0-ed1d2ac77f5f",
   "metadata": {},
   "outputs": [
    {
     "data": {
      "text/plain": [
       "ChatOpenAI(client=<openai.resources.chat.completions.completions.Completions object at 0x7aa320051df0>, async_client=<openai.resources.chat.completions.completions.AsyncCompletions object at 0x7aa320053980>, root_client=<openai.OpenAI object at 0x7aa3203ea270>, root_async_client=<openai.AsyncOpenAI object at 0x7aa320051e20>, model_name='gpt-4o-mini', temperature=0.0, model_kwargs={}, openai_api_key=SecretStr('**********'))"
      ]
     },
     "execution_count": 15,
     "metadata": {},
     "output_type": "execute_result"
    }
   ],
   "source": [
    "chat"
   ]
  },
  {
   "cell_type": "markdown",
   "id": "200795a5-826e-4f43-bdb9-dd04da86f58f",
   "metadata": {},
   "source": [
    "#### Prompt Template"
   ]
  },
  {
   "cell_type": "code",
   "execution_count": null,
   "id": "8738d783",
   "metadata": {},
   "outputs": [],
   "source": []
  },
  {
   "cell_type": "code",
   "execution_count": 16,
   "id": "8f1b4e95-50fb-4df1-b714-910ea71304c2",
   "metadata": {},
   "outputs": [],
   "source": [
    "template_string=\"\"\"Translate the text that is delimited by triple backticks into a style that is {style}.\\\n",
    "text: ```{text}```\n",
    "\"\"\""
   ]
  },
  {
   "cell_type": "code",
   "execution_count": 17,
   "id": "eb0df381-0fd5-4c5f-95ec-0bb7a0726977",
   "metadata": {},
   "outputs": [],
   "source": [
    "from langchain_core.prompts import ChatPromptTemplate\n",
    "prompt_template = ChatPromptTemplate.from_template(template_string)"
   ]
  },
  {
   "cell_type": "code",
   "execution_count": 18,
   "id": "a5133818-ffd7-4d9a-ae6b-014c3bc28898",
   "metadata": {},
   "outputs": [
    {
     "data": {
      "text/plain": [
       "ChatPromptTemplate(input_variables=['style', 'text'], input_types={}, partial_variables={}, messages=[HumanMessagePromptTemplate(prompt=PromptTemplate(input_variables=['style', 'text'], input_types={}, partial_variables={}, template='Translate the text that is delimited by triple backticks into a style that is {style}.text: ```{text}```\\n'), additional_kwargs={})])"
      ]
     },
     "execution_count": 18,
     "metadata": {},
     "output_type": "execute_result"
    }
   ],
   "source": [
    "prompt_template"
   ]
  },
  {
   "cell_type": "code",
   "execution_count": 19,
   "id": "0cd85121-1f4d-463c-b91a-a753d016cfa2",
   "metadata": {},
   "outputs": [
    {
     "data": {
      "text/plain": [
       "['style', 'text']"
      ]
     },
     "execution_count": 19,
     "metadata": {},
     "output_type": "execute_result"
    }
   ],
   "source": [
    "prompt_template.messages[0].prompt.input_variables"
   ]
  },
  {
   "cell_type": "code",
   "execution_count": 20,
   "id": "5661c9bc-d5ec-4b0e-89fc-f6ffb66a2e52",
   "metadata": {},
   "outputs": [],
   "source": [
    "customer_messages = prompt_template.format_messages(style=style, text=customer_email)"
   ]
  },
  {
   "cell_type": "code",
   "execution_count": 21,
   "id": "53365a6d-5f0b-47d6-b6b4-63fdafa5f74e",
   "metadata": {},
   "outputs": [
    {
     "name": "stdout",
     "output_type": "stream",
     "text": [
      "<class 'list'>\n"
     ]
    }
   ],
   "source": [
    "print(type(customer_messages))"
   ]
  },
  {
   "cell_type": "code",
   "execution_count": 22,
   "id": "2f934549-e5ad-4dd8-b6d8-9def1aae486c",
   "metadata": {},
   "outputs": [
    {
     "name": "stdout",
     "output_type": "stream",
     "text": [
      "<class 'langchain_core.messages.human.HumanMessage'>\n"
     ]
    }
   ],
   "source": [
    "print(type(customer_messages[0]))"
   ]
  },
  {
   "cell_type": "code",
   "execution_count": 23,
   "id": "37840a43-1f13-40ba-b74a-c9c58620cda9",
   "metadata": {},
   "outputs": [
    {
     "name": "stdout",
     "output_type": "stream",
     "text": [
      "Translate the text that is delimited by triple backticks into a style that is American english in calm and respectful tone.text: ```Your scientists were so preoccupied with whether or not they could, they didn't stop to think if they should.God creates dinosaurs. God destroys dinosaurs. God creates man. Man destroys God. Man creates dinosaurs.If there's one thing the history of evolution has taught us, it's that life will not be contained. Life breaks free.It expands into new territories. Painfully, maybe even dangerously. But, uh, there it is.```\n",
      "\n"
     ]
    }
   ],
   "source": [
    "print(customer_messages[0].content)"
   ]
  },
  {
   "cell_type": "code",
   "execution_count": 24,
   "id": "5a0983c2-24c4-47eb-bc21-89681fc3b337",
   "metadata": {},
   "outputs": [
    {
     "name": "stdout",
     "output_type": "stream",
     "text": [
      "Your scientists were so focused on whether they could do something that they didn't take the time to consider if they should. God creates dinosaurs. God destroys dinosaurs. God creates man. Man destroys God. Man creates dinosaurs. If there's one lesson we can learn from the history of evolution, it's that life cannot be contained. Life breaks free. It expands into new territories, sometimes painfully and even dangerously. But that is the reality we face.\n"
     ]
    }
   ],
   "source": [
    "# Call LLM to translate to the style of the customer message\n",
    "customer_response = chat.invoke(customer_messages)\n",
    "print(customer_response.content)"
   ]
  },
  {
   "cell_type": "markdown",
   "id": "8bd7fb3f-41c6-408f-b366-72712a4d7b5c",
   "metadata": {},
   "source": [
    "#### Output Parsers\n",
    "Let's start with defining how we would like the LLM output to look like:"
   ]
  },
  {
   "cell_type": "code",
   "execution_count": 25,
   "id": "30a2c829-a8d3-4eea-b9c6-0aaaa419708b",
   "metadata": {},
   "outputs": [
    {
     "data": {
      "text/plain": [
       "{'gift': False, 'delivery_days': 5, 'price_value': 'pretty affordable!'}"
      ]
     },
     "execution_count": 25,
     "metadata": {},
     "output_type": "execute_result"
    }
   ],
   "source": [
    "{\n",
    "  \"gift\": False,\n",
    "  \"delivery_days\": 5,\n",
    "  \"price_value\": \"pretty affordable!\"\n",
    "}"
   ]
  },
  {
   "cell_type": "code",
   "execution_count": 26,
   "id": "38b57e64-88ab-4291-9a54-360d4a8e6316",
   "metadata": {},
   "outputs": [],
   "source": [
    "customer_review = \"\"\"\\\n",
    "This leaf blower is pretty amazing.  It has four settings:\\\n",
    "candle blower, gentle breeze, windy city, and tornado. \\\n",
    "It arrived in two days, just in time for my wife's \\\n",
    "anniversary present. \\\n",
    "I think my wife liked it so much she was speechless. \\\n",
    "So far I've been the only one using it, and I've been \\\n",
    "using it every other morning to clear the leaves on our lawn. \\\n",
    "It's slightly more expensive than the other leaf blowers \\\n",
    "out there, but I think it's worth it for the extra features.\n",
    "\"\"\"\n",
    "\n",
    "review_template = \"\"\"\\\n",
    "For the following text, extract the following information:\n",
    "\n",
    "gift: Was the item purchased as a gift for someone else? \\\n",
    "Answer True if yes, False if not or unknown.\n",
    "\n",
    "delivery_days: How many days did it take for the product \\\n",
    "to arrive? If this information is not found, output -1.\n",
    "\n",
    "price_value: Extract any sentences about the value or price,\\\n",
    "and output them as a comma separated Python list.\n",
    "\n",
    "Format the output as JSON with the following keys:\n",
    "gift\n",
    "delivery_days\n",
    "price_value\n",
    "\n",
    "text: {text}\n",
    "\"\"\""
   ]
  },
  {
   "cell_type": "code",
   "execution_count": 27,
   "id": "d6c79e41-6bf7-4d2d-8845-13d671d7f500",
   "metadata": {},
   "outputs": [
    {
     "name": "stdout",
     "output_type": "stream",
     "text": [
      "input_variables=['text'] input_types={} partial_variables={} messages=[HumanMessagePromptTemplate(prompt=PromptTemplate(input_variables=['text'], input_types={}, partial_variables={}, template='For the following text, extract the following information:\\n\\ngift: Was the item purchased as a gift for someone else? Answer True if yes, False if not or unknown.\\n\\ndelivery_days: How many days did it take for the product to arrive? If this information is not found, output -1.\\n\\nprice_value: Extract any sentences about the value or price,and output them as a comma separated Python list.\\n\\nFormat the output as JSON with the following keys:\\ngift\\ndelivery_days\\nprice_value\\n\\ntext: {text}\\n'), additional_kwargs={})]\n"
     ]
    }
   ],
   "source": [
    "prompt_template = ChatPromptTemplate.from_template(review_template)\n",
    "print(prompt_template)"
   ]
  },
  {
   "cell_type": "code",
   "execution_count": 28,
   "id": "4650f3a7-1265-49a9-b6b4-2b5df4bc26cd",
   "metadata": {},
   "outputs": [
    {
     "name": "stdout",
     "output_type": "stream",
     "text": [
      "```json\n",
      "{\n",
      "  \"gift\": true,\n",
      "  \"delivery_days\": 2,\n",
      "  \"price_value\": [\"It's slightly more expensive than the other leaf blowers out there\", \"I think it's worth it for the extra features\"]\n",
      "}\n",
      "```\n"
     ]
    }
   ],
   "source": [
    "messages = prompt_template.format_messages(text=customer_review)\n",
    "response = chat.invoke(messages)\n",
    "print(response.content)"
   ]
  },
  {
   "cell_type": "markdown",
   "id": "8e130c06-4fea-4f05-89c6-8bff6593a83f",
   "metadata": {},
   "source": [
    "### Parse the LLM output string into a Python dictionary"
   ]
  },
  {
   "cell_type": "code",
   "execution_count": 29,
   "id": "4e6dd521-473b-4f5b-bbce-5acaed12a5de",
   "metadata": {},
   "outputs": [],
   "source": [
    "from langchain.output_parsers import ResponseSchema\n",
    "from langchain.output_parsers import StructuredOutputParser"
   ]
  },
  {
   "cell_type": "code",
   "execution_count": 30,
   "id": "a440825c-5e60-4d75-9dde-612aedae112c",
   "metadata": {},
   "outputs": [],
   "source": [
    "gift_schema = ResponseSchema(name=\"gift\",\n",
    "                             description=\"Was the item purchased\\\n",
    "                             as a gift for someone else? \\\n",
    "                             Answer True if yes,\\\n",
    "                             False if not or unknown.\")\n",
    "delivery_days_schema = ResponseSchema(name=\"delivery_days\",\n",
    "                                      description=\"How many days\\\n",
    "                                      did it take for the product\\\n",
    "                                      to arrive? If this \\\n",
    "                                      information is not found,\\\n",
    "                                      output -1.\")\n",
    "price_value_schema = ResponseSchema(name=\"price_value\",\n",
    "                                    description=\"Extract any\\\n",
    "                                    sentences about the value or \\\n",
    "                                    price, and output them as a \\\n",
    "                                    comma separated Python list.\")\n",
    "\n",
    "response_schemas = [gift_schema, \n",
    "                    delivery_days_schema,\n",
    "                    price_value_schema]"
   ]
  },
  {
   "cell_type": "code",
   "execution_count": 31,
   "id": "412934fe-1ef5-4d30-b419-1fcee4d5edb5",
   "metadata": {},
   "outputs": [],
   "source": [
    "output_parser = StructuredOutputParser.from_response_schemas(response_schemas)"
   ]
  },
  {
   "cell_type": "code",
   "execution_count": 32,
   "id": "e876c53e-3807-41ec-bd22-66cbb685e886",
   "metadata": {},
   "outputs": [],
   "source": [
    "format_instructions = output_parser.get_format_instructions()"
   ]
  },
  {
   "cell_type": "code",
   "execution_count": 33,
   "id": "a9227b8e-beb1-44a4-bd25-2197730c6d95",
   "metadata": {},
   "outputs": [
    {
     "name": "stdout",
     "output_type": "stream",
     "text": [
      "The output should be a markdown code snippet formatted in the following schema, including the leading and trailing \"```json\" and \"```\":\n",
      "\n",
      "```json\n",
      "{\n",
      "\t\"gift\": string  // Was the item purchased                             as a gift for someone else?                              Answer True if yes,                             False if not or unknown.\n",
      "\t\"delivery_days\": string  // How many days                                      did it take for the product                                      to arrive? If this                                       information is not found,                                      output -1.\n",
      "\t\"price_value\": string  // Extract any                                    sentences about the value or                                     price, and output them as a                                     comma separated Python list.\n",
      "}\n",
      "```\n"
     ]
    }
   ],
   "source": [
    "print(format_instructions)"
   ]
  },
  {
   "cell_type": "code",
   "execution_count": 34,
   "id": "4181d4df-550c-4e2c-acf1-bb57d82be228",
   "metadata": {},
   "outputs": [],
   "source": [
    "review_template_2 = \"\"\"\\\n",
    "For the following text, extract the following information:\n",
    "\n",
    "gift: Was the item purchased as a gift for someone else? \\\n",
    "Answer True if yes, False if not or unknown.\n",
    "\n",
    "delivery_days: How many days did it take for the product\\\n",
    "to arrive? If this information is not found, output -1.\n",
    "\n",
    "price_value: Extract any sentences about the value or price,\\\n",
    "and output them as a comma separated Python list.\n",
    "\n",
    "text: {text}\n",
    "\n",
    "{format_instructions}\n",
    "\"\"\"\n",
    "\n",
    "prompt_template = ChatPromptTemplate.from_template(template=review_template_2)\n",
    "\n",
    "messages = prompt_template.format_messages(text=customer_review, \n",
    "                                format_instructions=format_instructions)"
   ]
  },
  {
   "cell_type": "code",
   "execution_count": 35,
   "id": "6a9f3e64-4567-4922-886f-7a4578f22e28",
   "metadata": {},
   "outputs": [
    {
     "name": "stdout",
     "output_type": "stream",
     "text": [
      "For the following text, extract the following information:\n",
      "\n",
      "gift: Was the item purchased as a gift for someone else? Answer True if yes, False if not or unknown.\n",
      "\n",
      "delivery_days: How many days did it take for the productto arrive? If this information is not found, output -1.\n",
      "\n",
      "price_value: Extract any sentences about the value or price,and output them as a comma separated Python list.\n",
      "\n",
      "text: This leaf blower is pretty amazing.  It has four settings:candle blower, gentle breeze, windy city, and tornado. It arrived in two days, just in time for my wife's anniversary present. I think my wife liked it so much she was speechless. So far I've been the only one using it, and I've been using it every other morning to clear the leaves on our lawn. It's slightly more expensive than the other leaf blowers out there, but I think it's worth it for the extra features.\n",
      "\n",
      "\n",
      "The output should be a markdown code snippet formatted in the following schema, including the leading and trailing \"```json\" and \"```\":\n",
      "\n",
      "```json\n",
      "{\n",
      "\t\"gift\": string  // Was the item purchased                             as a gift for someone else?                              Answer True if yes,                             False if not or unknown.\n",
      "\t\"delivery_days\": string  // How many days                                      did it take for the product                                      to arrive? If this                                       information is not found,                                      output -1.\n",
      "\t\"price_value\": string  // Extract any                                    sentences about the value or                                     price, and output them as a                                     comma separated Python list.\n",
      "}\n",
      "```\n",
      "\n"
     ]
    }
   ],
   "source": [
    "print(messages[0].content)"
   ]
  },
  {
   "cell_type": "code",
   "execution_count": 36,
   "id": "fa8feaae-d901-4db9-b5fb-210b0c98cc23",
   "metadata": {},
   "outputs": [
    {
     "name": "stdout",
     "output_type": "stream",
     "text": [
      "```json\n",
      "{\n",
      "\t\"gift\": \"True\",\n",
      "\t\"delivery_days\": \"2\",\n",
      "\t\"price_value\": \"It's slightly more expensive than the other leaf blowers out there, but I think it's worth it for the extra features.\"\n",
      "}\n",
      "```\n"
     ]
    }
   ],
   "source": [
    "response = chat.invoke(messages)\n",
    "print(response.content)"
   ]
  },
  {
   "cell_type": "code",
   "execution_count": 37,
   "id": "c86e6f29-ce4b-4a77-a1a3-f8a36beacbdc",
   "metadata": {},
   "outputs": [
    {
     "data": {
      "text/plain": [
       "{'gift': 'True',\n",
       " 'delivery_days': '2',\n",
       " 'price_value': \"It's slightly more expensive than the other leaf blowers out there, but I think it's worth it for the extra features.\"}"
      ]
     },
     "execution_count": 37,
     "metadata": {},
     "output_type": "execute_result"
    }
   ],
   "source": [
    "output_dict = output_parser.parse(response.content)\n",
    "output_dict"
   ]
  },
  {
   "cell_type": "code",
   "execution_count": 38,
   "id": "05ec3d3c-cdb8-4051-b387-37df0c546cea",
   "metadata": {},
   "outputs": [
    {
     "data": {
      "text/plain": [
       "dict"
      ]
     },
     "execution_count": 38,
     "metadata": {},
     "output_type": "execute_result"
    }
   ],
   "source": [
    "type(output_dict)"
   ]
  },
  {
   "cell_type": "code",
   "execution_count": 39,
   "id": "94172707-4787-4bab-bec6-209a450845d2",
   "metadata": {},
   "outputs": [
    {
     "data": {
      "text/plain": [
       "'2'"
      ]
     },
     "execution_count": 39,
     "metadata": {},
     "output_type": "execute_result"
    }
   ],
   "source": [
    "output_dict.get('delivery_days')"
   ]
  },
  {
   "cell_type": "code",
   "execution_count": null,
   "id": "2bf9c559-3423-40cb-a12f-8d5dc0a0c8e6",
   "metadata": {},
   "outputs": [],
   "source": []
  }
 ],
 "metadata": {
  "kernelspec": {
   "display_name": ".venv",
   "language": "python",
   "name": "python3"
  },
  "language_info": {
   "codemirror_mode": {
    "name": "ipython",
    "version": 3
   },
   "file_extension": ".py",
   "mimetype": "text/x-python",
   "name": "python",
   "nbconvert_exporter": "python",
   "pygments_lexer": "ipython3",
   "version": "3.12.3"
  }
 },
 "nbformat": 4,
 "nbformat_minor": 5
}
